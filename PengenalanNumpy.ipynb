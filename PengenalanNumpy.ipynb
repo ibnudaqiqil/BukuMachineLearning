{
  "nbformat": 4,
  "nbformat_minor": 0,
  "metadata": {
    "colab": {
      "name": "PengenalanNumpy.ipynb",
      "provenance": [],
      "collapsed_sections": [],
      "authorship_tag": "ABX9TyNSp+PYTk/QSTeWbTY4sqDE",
      "include_colab_link": true
    },
    "kernelspec": {
      "name": "python3",
      "display_name": "Python 3"
    }
  },
  "cells": [
    {
      "cell_type": "markdown",
      "metadata": {
        "id": "view-in-github",
        "colab_type": "text"
      },
      "source": [
        "<a href=\"https://colab.research.google.com/github/ibnudaqiqil/BukuMachineLearning/blob/master/PengenalanNumpy.ipynb\" target=\"_parent\"><img src=\"https://colab.research.google.com/assets/colab-badge.svg\" alt=\"Open In Colab\"/></a>"
      ]
    },
    {
      "cell_type": "markdown",
      "metadata": {
        "id": "BgJO8UOWXA0J",
        "colab_type": "text"
      },
      "source": [
        "#Pengenalan Numpy\n"
      ]
    },
    {
      "cell_type": "markdown",
      "metadata": {
        "id": "GZnxJMr5c_fP",
        "colab_type": "text"
      },
      "source": [
        "##List Python\n",
        "\n",
        "\n"
      ]
    },
    {
      "cell_type": "code",
      "metadata": {
        "id": "gLGFW41RSFdo",
        "colab_type": "code",
        "colab": {
          "base_uri": "https://localhost:8080/",
          "height": 36
        },
        "outputId": "d69a470e-bd8b-47cd-b453-a75794fa0cbc"
      },
      "source": [
        "#Penjumlahan dua List Python\n",
        "a = [1,2,3]\n",
        "b = [4,5,6]\n",
        "\n",
        "print('a+b = ', a+b)\n"
      ],
      "execution_count": 1,
      "outputs": [
        {
          "output_type": "stream",
          "text": [
            "a+b =  [1, 2, 3, 4, 5, 6]\n"
          ],
          "name": "stdout"
        }
      ]
    },
    {
      "cell_type": "code",
      "metadata": {
        "id": "x7dZjNm3VQjy",
        "colab_type": "code",
        "colab": {
          "base_uri": "https://localhost:8080/",
          "height": 36
        },
        "outputId": "37bbbbbd-4d78-4a78-8413-c5bfaf0671b6"
      },
      "source": [
        "#Perkalian List Python\n",
        "a = [1,2,3]\n",
        "print(\"a x 2 = \", a * 2)"
      ],
      "execution_count": 2,
      "outputs": [
        {
          "output_type": "stream",
          "text": [
            "a x 2 =  [1, 2, 3, 1, 2, 3]\n"
          ],
          "name": "stdout"
        }
      ]
    },
    {
      "cell_type": "code",
      "metadata": {
        "id": "dcT2-BD8U9EY",
        "colab_type": "code",
        "colab": {}
      },
      "source": [
        "#inisialiasi penggunaan Numpy\n",
        "import numpy as np"
      ],
      "execution_count": 4,
      "outputs": []
    },
    {
      "cell_type": "code",
      "metadata": {
        "id": "qoWBucodfOfm",
        "colab_type": "code",
        "colab": {
          "base_uri": "https://localhost:8080/",
          "height": 54
        },
        "outputId": "e15ec673-023b-41f9-edb5-be3bad7ecbdd"
      },
      "source": [
        "#membuat sebuah array \n",
        "arr_1_dimensi = np.array([1, 2, 3])\n",
        "arr_2_dimensi = np.array([[6, 5], [11, 7], [4, 8]])\n",
        "\n",
        "print(\"Ukuran Array 1 Dimensi : \", arr_1_dimensi.shape)\n",
        "print(\"Ukuran Array 2 Dimensi : \", arr_2_dimensi.shape)\n"
      ],
      "execution_count": 15,
      "outputs": [
        {
          "output_type": "stream",
          "text": [
            "Ukuran Array 1 Dimensi :  (3,)\n",
            "Ukuran Array 2 Dimensi :  (3, 2)\n"
          ],
          "name": "stdout"
        }
      ]
    },
    {
      "cell_type": "code",
      "metadata": {
        "id": "ad4H-wefgumn",
        "colab_type": "code",
        "colab": {
          "base_uri": "https://localhost:8080/",
          "height": 147
        },
        "outputId": "17d803b1-b91d-4fe3-e247-325b340f70d0"
      },
      "source": [
        "#membuat array  dengan ukuran 2 x3 berisi 0\n",
        "c = np.zeros((2, 3))\n",
        "#membuat array  dengan ukuran 5 x5 berisi 1\n",
        "d = np.ones((5, 6))\n",
        "\n",
        "print(c)\n",
        "print(d)"
      ],
      "execution_count": 17,
      "outputs": [
        {
          "output_type": "stream",
          "text": [
            "[[0. 0. 0.]\n",
            " [0. 0. 0.]]\n",
            "[[1. 1. 1. 1. 1. 1.]\n",
            " [1. 1. 1. 1. 1. 1.]\n",
            " [1. 1. 1. 1. 1. 1.]\n",
            " [1. 1. 1. 1. 1. 1.]\n",
            " [1. 1. 1. 1. 1. 1.]]\n"
          ],
          "name": "stdout"
        }
      ]
    },
    {
      "cell_type": "code",
      "metadata": {
        "id": "DexpS7-0hYUG",
        "colab_type": "code",
        "colab": {
          "base_uri": "https://localhost:8080/",
          "height": 54
        },
        "outputId": "4384e39c-241f-47c0-9949-c74779ee1f72"
      },
      "source": [
        "c = np.arange(0, 10)\n",
        "d = np.arange(0, 10, 2)\n",
        "\n",
        "print(c)\n",
        "print(d)"
      ],
      "execution_count": 21,
      "outputs": [
        {
          "output_type": "stream",
          "text": [
            "[0 1 2 3 4 5 6 7 8 9]\n",
            "[0 2 4 6 8]\n"
          ],
          "name": "stdout"
        }
      ]
    },
    {
      "cell_type": "code",
      "metadata": {
        "id": "hRMgHqz1hzV9",
        "colab_type": "code",
        "colab": {
          "base_uri": "https://localhost:8080/",
          "height": 91
        },
        "outputId": "87d0badc-2637-4b8d-b03e-752bc81279be"
      },
      "source": [
        "mean = 10\n",
        "stdev = 3\n",
        "jumlah_array = 20\n",
        "c = np.random.normal(mean, stdev, jumlah_array)\n",
        "print(c)"
      ],
      "execution_count": 26,
      "outputs": [
        {
          "output_type": "stream",
          "text": [
            "[ 7.37278127 11.53170575 12.75691846 11.15975652 11.21522916 10.16939865\n",
            "  6.55089967 10.56517679 11.58525108  8.36531078 11.23912776  8.90185099\n",
            " 10.26675212 11.75116488  7.88707855 16.52597278 11.25637802  8.71207888\n",
            "  5.36175938 17.47303326]\n"
          ],
          "name": "stdout"
        }
      ]
    },
    {
      "cell_type": "markdown",
      "metadata": {
        "id": "0yT34tEukNj2",
        "colab_type": "text"
      },
      "source": [
        "###Indexing Numpy"
      ]
    },
    {
      "cell_type": "code",
      "metadata": {
        "id": "Z89SJ8yLkToh",
        "colab_type": "code",
        "colab": {
          "base_uri": "https://localhost:8080/",
          "height": 202
        },
        "outputId": "d3527d3c-b9a8-4038-e996-133440508f17"
      },
      "source": [
        "x = np.arange(10)\n",
        "#menampilkan semua isi array\n",
        "print(x)\n",
        "\n",
        "#menampilkan isi array pertama\n",
        "print(x[0])\n",
        "\n",
        "#menampilkan isi array terakhir\n",
        "print(x[-1])\n",
        "\n",
        "#menampilkan isi array ke-3 s/d ke-5\n",
        "print(x[2:5])\n",
        "\n",
        "#menampilkan isi array dari awal sampai elemen ke-5\n",
        "print(x[:5])\n",
        "\n",
        "#menampilkan isi array dari elemen ke-3 sampai terakhir\n",
        "print(x[2:])\n",
        "\n",
        "#menampilkan isi array dari elemen ke-3 dari belakang sampai terakhir\n",
        "print(x[-3:])\n",
        "\n",
        "#menampilkan element secara terbalik\n",
        "print(x[::-1])\n",
        "\n",
        "#menampilkan element secara\n",
        "print(x[::2])\n",
        "print(x[::3])"
      ],
      "execution_count": 40,
      "outputs": [
        {
          "output_type": "stream",
          "text": [
            "[0 1 2 3 4 5 6 7 8 9]\n",
            "0\n",
            "9\n",
            "[2 3 4]\n",
            "[0 1 2 3 4]\n",
            "[2 3 4 5 6 7 8 9]\n",
            "[7 8 9]\n",
            "[9 8 7 6 5 4 3 2 1 0]\n",
            "[0 2 4 6 8]\n",
            "[0 3 6 9]\n"
          ],
          "name": "stdout"
        }
      ]
    },
    {
      "cell_type": "code",
      "metadata": {
        "id": "3u9h2bWUs8yr",
        "colab_type": "code",
        "colab": {
          "base_uri": "https://localhost:8080/",
          "height": 147
        },
        "outputId": "be95d633-9b9c-442c-fe55-cc7b21867ab9"
      },
      "source": [
        "x = np.arange(25).reshape(5, 5)\n",
        "print(x)\n",
        "print(x[:2, :4])"
      ],
      "execution_count": 44,
      "outputs": [
        {
          "output_type": "stream",
          "text": [
            "[[ 0  1  2  3  4]\n",
            " [ 5  6  7  8  9]\n",
            " [10 11 12 13 14]\n",
            " [15 16 17 18 19]\n",
            " [20 21 22 23 24]]\n",
            "[[0 1 2 3]\n",
            " [5 6 7 8]]\n"
          ],
          "name": "stdout"
        }
      ]
    },
    {
      "cell_type": "markdown",
      "metadata": {
        "id": "vhmqB8Islx9U",
        "colab_type": "text"
      },
      "source": [
        "###Pengolaan Array"
      ]
    },
    {
      "cell_type": "code",
      "metadata": {
        "id": "MKzJQg9Ys3om",
        "colab_type": "code",
        "colab": {}
      },
      "source": [
        ""
      ],
      "execution_count": null,
      "outputs": []
    },
    {
      "cell_type": "code",
      "metadata": {
        "id": "QGlTQXhwVsda",
        "colab_type": "code",
        "colab": {
          "base_uri": "https://localhost:8080/",
          "height": 110
        },
        "outputId": "4ca64501-21e9-44f4-a6f1-57419f8dca8f"
      },
      "source": [
        ""
      ],
      "execution_count": 41,
      "outputs": [
        {
          "output_type": "stream",
          "text": [
            "[[ 0  1  2  3  4]\n",
            " [ 5  6  7  8  9]\n",
            " [10 11 12 13 14]\n",
            " [15 16 17 18 19]\n",
            " [20 21 22 23 24]]\n"
          ],
          "name": "stdout"
        }
      ]
    },
    {
      "cell_type": "code",
      "metadata": {
        "id": "TesCLjvIVCZv",
        "colab_type": "code",
        "colab": {
          "base_uri": "https://localhost:8080/",
          "height": 36
        },
        "outputId": "31d48d72-e070-467d-8254-05aa1daddd1c"
      },
      "source": [
        "#Membuat Numpy array\n",
        "np_a = np.array([1, 2, 3])\n",
        "np_b = np.array([4, 5, 6])\n",
        "print('[Numpy] a+b = ', np_a+np_b)"
      ],
      "execution_count": 10,
      "outputs": [
        {
          "output_type": "stream",
          "text": [
            "[Numpy] a+b =  [5 7 9]\n"
          ],
          "name": "stdout"
        }
      ]
    }
  ]
}