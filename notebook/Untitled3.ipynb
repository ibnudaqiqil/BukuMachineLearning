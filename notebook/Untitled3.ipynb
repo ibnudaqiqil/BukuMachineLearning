{
 "cells": [
  {
   "cell_type": "code",
   "execution_count": 18,
   "metadata": {},
   "outputs": [
    {
     "name": "stdout",
     "output_type": "stream",
     "text": [
      "7785.0 82.5\n",
      "Koofisien:\n",
      "b0 = 228.0 \n",
      "b1 = 94.36363636363636\n",
      "Fungsi regresi Y = 228.0X + 94.36363636363636\n"
     ]
    },
    {
     "data": {
      "image/png": "[encoded data removed]",
      "text/plain": [
       "<matplotlib.figure.Figure at 0xbe597f0>"
      ]
     },
     "metadata": {},
     "output_type": "display_data"
    }
   ],
   "source": [
    "%matplotlib inline\n",
    "import numpy as np \n",
    "import matplotlib.pyplot as plt\n",
    "\n",
    "def estimasi_koofisien(x, y): \n",
    "    # mendapatkan jumlah data atau item yang observasi\n",
    "    n = np.size(x) \n",
    "  \n",
    "    # rata-rata x dan y\n",
    "    mean_x= np.mean(x)  \n",
    "    mean_y= np.mean(y)\n",
    "    \n",
    "    # hitung cross-deviation dan deviation x \n",
    "    numerator = 0\n",
    "    denominator = 0\n",
    "\n",
    "    for i in range(n):\n",
    "        numerator += (x[i] - mean_x) * (y[i] - mean_y)\n",
    "        denominator += (x[i] - mean_x) ** 2\n",
    "    print(numerator, denominator)\n",
    "    b1 = numerator/ denominator\n",
    "    b0 = mean_y - (b1 * mean_x)    \n",
    "    \n",
    "    return(b0, b1)\n",
    "\n",
    "def plot_regression_line(x, y, b): \n",
    "    # plotting the points as per dataset on a graph\n",
    "    plt.scatter(x, y, color = \"r\",marker = \"o\", s = 30) \n",
    "\n",
    "    # predicted response vector \n",
    "    y_pred = b[0] + b[1]*x \n",
    "  \n",
    "    # plotting the regression line\n",
    "    plt.plot(x, y_pred, color = \"b\")\n",
    "  \n",
    "    # label untuk x dan Y\n",
    "    plt.xlabel('Ukuran') \n",
    "    plt.ylabel('Biaya') \n",
    "  \n",
    "    # fungsi untuk menampilkan graph\n",
    "    plt.show()\n",
    "    \n",
    "\n",
    "def main(): \n",
    "    # Datasets which we create \n",
    "    x = np.array([ 1,   2,   3,   4,   5,   6,   7,   8,    9,   10])\n",
    "    y = np.array([270, 350, 500, 700, 800, 850, 900, 900, 1000, 1200]) \n",
    "  \n",
    "    b = estimasi_koofisien(x, y) \n",
    "    print(\"Koofisien:\\nb0 = {} \\nb1 = {}\".format(b[0], b[1])) \n",
    "    print(\"Fungsi regresi Y = {}X + {}\".format(b[0], b[1])) \n",
    "  \n",
    "    # plotting regression line \n",
    "    plot_regression_line(x, y, b)\n",
    "\n",
    "    \n",
    "if __name__ == \"__main__\": \n",
    "    main()"
   ]
  },
  {
   "cell_type": "code",
   "execution_count": 8,
   "metadata": {},
   "outputs": [
    {
     "data": {
      "text/plain": [
       "array([94.36363636])"
      ]
     },
     "execution_count": 8,
     "metadata": {},
     "output_type": "execute_result"
    }
   ],
   "source": [
    "%matplotlib inline\n",
    "import numpy as np\n",
    "import matplotlib.pyplot as plt\n",
    "from sklearn.linear_model import LinearRegression\n",
    "\n",
    "X =  np.array([ [1],[2],[3],[4],[5],[6],[7],[8],[9],[10]]) \n",
    "y = np.array([270, 350, 500, 700, 800, 850, 900, 900, 1000, 1200]) \n",
    "reg = LinearRegression().fit(X, y)\n",
    "\n",
    "reg.coef_"
   ]
  },
  {
   "cell_type": "code",
   "execution_count": 6,
   "metadata": {},
   "outputs": [
    {
     "name": "stderr",
     "output_type": "stream",
     "text": [
      "C:\\ProgramData\\Anaconda3\\lib\\site-packages\\scipy\\stats\\stats.py:1390: UserWarning: kurtosistest only valid for n>=20 ... continuing anyway, n=10\n",
      "  \"anyway, n=%i\" % int(n))\n"
     ]
    },
    {
     "data": {
      "text/html": [
       "<table class=\"simpletable\">\n",
       "<caption>OLS Regression Results</caption>\n",
       "<tr>\n",
       "  <th>Dep. Variable:</th>            <td>y</td>        <th>  R-squared:         </th> <td>   0.976</td>\n",
       "</tr>\n",
       "<tr>\n",
       "  <th>Model:</th>                   <td>OLS</td>       <th>  Adj. R-squared:    </th> <td>   0.973</td>\n",
       "</tr>\n",
       "<tr>\n",
       "  <th>Method:</th>             <td>Least Squares</td>  <th>  F-statistic:       </th> <td>   361.2</td>\n",
       "</tr>\n",
       "<tr>\n",
       "  <th>Date:</th>             <td>Thu, 07 Mar 2019</td> <th>  Prob (F-statistic):</th> <td>1.42e-08</td>\n",
       "</tr>\n",
       "<tr>\n",
       "  <th>Time:</th>                 <td>14:47:56</td>     <th>  Log-Likelihood:    </th> <td> -62.419</td>\n",
       "</tr>\n",
       "<tr>\n",
       "  <th>No. Observations:</th>      <td>    10</td>      <th>  AIC:               </th> <td>   126.8</td>\n",
       "</tr>\n",
       "<tr>\n",
       "  <th>Df Residuals:</th>          <td>     9</td>      <th>  BIC:               </th> <td>   127.1</td>\n",
       "</tr>\n",
       "<tr>\n",
       "  <th>Df Model:</th>              <td>     1</td>      <th>                     </th>     <td> </td>   \n",
       "</tr>\n",
       "<tr>\n",
       "  <th>Covariance Type:</th>      <td>nonrobust</td>    <th>                     </th>     <td> </td>   \n",
       "</tr>\n",
       "</table>\n",
       "<table class=\"simpletable\">\n",
       "<tr>\n",
       "   <td></td>     <th>coef</th>     <th>std err</th>      <th>t</th>      <th>P>|t|</th>  <th>[0.025</th>    <th>0.975]</th>  \n",
       "</tr>\n",
       "<tr>\n",
       "  <th>x1</th> <td>  126.9351</td> <td>    6.679</td> <td>   19.004</td> <td> 0.000</td> <td>  111.825</td> <td>  142.045</td>\n",
       "</tr>\n",
       "</table>\n",
       "<table class=\"simpletable\">\n",
       "<tr>\n",
       "  <th>Omnibus:</th>       <td> 1.858</td> <th>  Durbin-Watson:     </th> <td>   0.277</td>\n",
       "</tr>\n",
       "<tr>\n",
       "  <th>Prob(Omnibus):</th> <td> 0.395</td> <th>  Jarque-Bera (JB):  </th> <td>   1.049</td>\n",
       "</tr>\n",
       "<tr>\n",
       "  <th>Skew:</th>          <td>-0.486</td> <th>  Prob(JB):          </th> <td>   0.592</td>\n",
       "</tr>\n",
       "<tr>\n",
       "  <th>Kurtosis:</th>      <td> 1.746</td> <th>  Cond. No.          </th> <td>    1.00</td>\n",
       "</tr>\n",
       "</table>"
      ],
      "text/plain": [
       "<class 'statsmodels.iolib.summary.Summary'>\n",
       "\"\"\"\n",
       "                            OLS Regression Results                            \n",
       "==============================================================================\n",
       "Dep. Variable:                      y   R-squared:                       0.976\n",
       "Model:                            OLS   Adj. R-squared:                  0.973\n",
       "Method:                 Least Squares   F-statistic:                     361.2\n",
       "Date:                Thu, 07 Mar 2019   Prob (F-statistic):           1.42e-08\n",
       "Time:                        14:47:56   Log-Likelihood:                -62.419\n",
       "No. Observations:                  10   AIC:                             126.8\n",
       "Df Residuals:                       9   BIC:                             127.1\n",
       "Df Model:                           1                                         \n",
       "Covariance Type:            nonrobust                                         \n",
       "==============================================================================\n",
       "                 coef    std err          t      P>|t|      [0.025      0.975]\n",
       "------------------------------------------------------------------------------\n",
       "x1           126.9351      6.679     19.004      0.000     111.825     142.045\n",
       "==============================================================================\n",
       "Omnibus:                        1.858   Durbin-Watson:                   0.277\n",
       "Prob(Omnibus):                  0.395   Jarque-Bera (JB):                1.049\n",
       "Skew:                          -0.486   Prob(JB):                        0.592\n",
       "Kurtosis:                       1.746   Cond. No.                         1.00\n",
       "==============================================================================\n",
       "\n",
       "Warnings:\n",
       "[1] Standard Errors assume that the covariance matrix of the errors is correctly specified.\n",
       "\"\"\""
      ]
     },
     "execution_count": 6,
     "metadata": {},
     "output_type": "execute_result"
    }
   ],
   "source": [
    "import statsmodels.api as sm\n",
    "\n",
    "X = np.array([ 1,   2,   3,   4,   5,   6,   7,   8,    9,   10]) \n",
    "y = np.array([270, 350, 500, 700, 800, 850, 900, 900, 1000, 1200]) \n",
    "\n",
    "# Note the difference in argument order\n",
    "model = sm.OLS(y, X).fit()\n",
    "predictions = model.predict(X) # make the predictions by the model\n",
    "\n",
    "# Print out the statistics\n",
    "model.summary()"
   ]
  },
  {
   "cell_type": "code",
   "execution_count": null,
   "metadata": {},
   "outputs": [],
   "source": []
  }
 ],
 "metadata": {
  "kernelspec": {
   "display_name": "Python 3",
   "language": "python",
   "name": "python3"
  },
  "language_info": {
   "codemirror_mode": {
    "name": "ipython",
    "version": 3
   },
   "file_extension": ".py",
   "mimetype": "text/x-python",
   "name": "python",
   "nbconvert_exporter": "python",
   "pygments_lexer": "ipython3",
   "version": "3.6.4"
  }
 },
 "nbformat": 4,
 "nbformat_minor": 2
}
